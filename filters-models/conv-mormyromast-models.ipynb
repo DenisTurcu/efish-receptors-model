{
 "cells": [
  {
   "cell_type": "code",
   "execution_count": null,
   "metadata": {},
   "outputs": [],
   "source": [
    "import numpy as np\n",
    "import pandas as pd\n",
    "import lightning as L\n",
    "from lightning.pytorch import loggers as pl_loggers\n",
    "import torch\n",
    "import torch.nn as nn\n",
    "from torch.utils.data import Dataset, DataLoader\n",
    "import matplotlib.pyplot as plt\n",
    "from helpers_convolutional_filters import compute_num_conv_features, init_conv_layers\n",
    "from Convolutional_Mormyromast import ConvMormyromast\n",
    "from lfp_response_dataset import LfpResponseDataset, create_train_and_validation_datasets\n",
    "\n",
    "data_fname = \"../data/lfp-abby/processed/single_trials.pkl\"\n",
    "data_fname_averages = \"../data/lfp-abby/processed/trial_averages.pkl\"\n",
    "data = pd.read_pickle(data_fname)\n",
    "data_averages = pd.read_pickle(data_fname_averages)\n",
    "\n",
    "print(f\"Loaded data shape: single trials - {data.shape}, trial averages - {data_averages.shape}\")"
   ]
  },
  {
   "cell_type": "code",
   "execution_count": null,
   "metadata": {},
   "outputs": [],
   "source": [
    "train_dataset, valid_dataset = create_train_and_validation_datasets(\n",
    "    data, fish_id=\"fish_01\", zone=\"dlz\", percent_train=0.8\n",
    ")\n",
    "train_loader = DataLoader(train_dataset, batch_size=32, shuffle=True)\n",
    "valid_loader = DataLoader(valid_dataset, batch_size=32, shuffle=False)\n",
    "\n",
    "model = ConvMormyromast(\n",
    "    input_length=next(iter(train_loader))[0].shape[2],\n",
    "    input_channels=1,\n",
    "    conv_layer_fraction_widths=[1],\n",
    "    conv_output_channels=1,\n",
    "    conv_stride=25,\n",
    "    N_receptors=1,\n",
    ")"
   ]
  },
  {
   "cell_type": "code",
   "execution_count": null,
   "metadata": {},
   "outputs": [],
   "source": [
    "learning_rate = 0.001\n",
    "input_noise_std = 0.25\n",
    "\n",
    "# define the LightningModule\n",
    "class LitModel(L.LightningModule):\n",
    "    def __init__(self, model, input_noise_std=input_noise_std):\n",
    "        super().__init__()\n",
    "        self.model = model\n",
    "        self.input_noise_std = input_noise_std\n",
    "\n",
    "    def training_step(self, batch, batch_idx):\n",
    "        x, y = batch\n",
    "        x += torch.randn(*x.shape).to(x.device) * self.input_noise_std\n",
    "        y_hat = self.model(x)\n",
    "        loss = nn.functional.mse_loss(y_hat, y)\n",
    "        self.log(\"train_loss\", loss, prog_bar=False)\n",
    "        return loss\n",
    "    \n",
    "    def validation_step(self, batch, batch_idx):\n",
    "        x, y = batch\n",
    "        y_hat = self.model(x)\n",
    "        val_loss = nn.functional.mse_loss(y_hat, y)\n",
    "        self.log(\"val_loss\", val_loss, prog_bar=False)\n",
    "        pass\n",
    "\n",
    "    def configure_optimizers(self):\n",
    "        optimizer = torch.optim.Adam(self.parameters(), lr=learning_rate)\n",
    "        return optimizer\n",
    "\n",
    "lit_model = LitModel(model)"
   ]
  },
  {
   "cell_type": "code",
   "execution_count": null,
   "metadata": {},
   "outputs": [],
   "source": [
    "logger = pl_loggers.TensorBoardLogger(save_dir=\"lightning_logs\", name=\"mormyromast\")\n",
    "# trainer = L.Trainer(logger=logger)\n",
    "trainer = L.Trainer(max_epochs=100, logger=logger)\n",
    "trainer.fit(model=lit_model, train_dataloaders=train_loader, val_dataloaders=valid_loader)"
   ]
  },
  {
   "cell_type": "code",
   "execution_count": null,
   "metadata": {},
   "outputs": [],
   "source": [
    "plt.plot(lit_model.model.conv_list[0].weight.detach().squeeze().numpy())\n",
    "plt.show()"
   ]
  },
  {
   "cell_type": "code",
   "execution_count": null,
   "metadata": {},
   "outputs": [],
   "source": [
    "checkpoint = \"./lightning_logs/mormyromast/version_1/checkpoints/epoch=99-step=7800.ckpt\"\n",
    "lit_model = LitModel.load_from_checkpoint(checkpoint, model=model)"
   ]
  },
  {
   "cell_type": "code",
   "execution_count": null,
   "metadata": {},
   "outputs": [],
   "source": [
    "plt.plot(lit_model.model.conv_list[0].weight.detach().cpu().squeeze().numpy())\n",
    "plt.show()"
   ]
  },
  {
   "cell_type": "code",
   "execution_count": null,
   "metadata": {},
   "outputs": [],
   "source": []
  },
  {
   "cell_type": "code",
   "execution_count": null,
   "metadata": {},
   "outputs": [],
   "source": []
  },
  {
   "cell_type": "code",
   "execution_count": null,
   "metadata": {},
   "outputs": [],
   "source": []
  }
 ],
 "metadata": {
  "kernelspec": {
   "display_name": "efish",
   "language": "python",
   "name": "python3"
  },
  "language_info": {
   "codemirror_mode": {
    "name": "ipython",
    "version": 3
   },
   "file_extension": ".py",
   "mimetype": "text/x-python",
   "name": "python",
   "nbconvert_exporter": "python",
   "pygments_lexer": "ipython3",
   "version": "3.11.7"
  }
 },
 "nbformat": 4,
 "nbformat_minor": 2
}
