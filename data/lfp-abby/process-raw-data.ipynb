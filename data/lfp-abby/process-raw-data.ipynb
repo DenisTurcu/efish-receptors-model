{
 "cells": [
  {
   "cell_type": "code",
   "execution_count": 1,
   "metadata": {},
   "outputs": [],
   "source": [
    "import numpy as np\n",
    "import pandas as pd\n",
    "from glob import glob\n",
    "import os\n",
    "import scipy.io as sio\n",
    "import mat73\n",
    "import matplotlib.pyplot as plt"
   ]
  },
  {
   "cell_type": "code",
   "execution_count": 64,
   "metadata": {},
   "outputs": [],
   "source": [
    "def load_waveform(fname):\n",
    "    data = sio.loadmat(fname)\n",
    "    k = list(data.keys())[-1]\n",
    "    data = data[k]\n",
    "    return pd.DataFrame(dict(\n",
    "        fname=[x[0] for x in data['fname'][0]],\n",
    "        stimulus_marker=[x[0][0] for x in data['marker'][0]],\n",
    "        sampling_rate=[x[0][0] for x in data['samprate'][0]],\n",
    "        resistance=[x[0][0] for x in data['RO'][0]],\n",
    "        capacitance=[x[0][0] for x in data['CO'][0]],\n",
    "        amplitude_modulation=[x[0][0] for x in data['amp_mod'][0]],\n",
    "        waveform_modulation=[x[0][0] for x in data['wav_mod'][0]],\n",
    "        value_max=[x[0][0] for x in data['maxv'][0]],\n",
    "        value_min=[x[0][0] for x in data['minv'][0]],\n",
    "        waveform=[x.flatten() for x in data['waveform'][0]],\n",
    "        base_waveform=[data[\"waveform\"][0][-1].flatten()] * len(data[\"waveform\"][0]),\n",
    "    ))\n",
    "    \n",
    "\n",
    "def load_lfp_data(fname):\n",
    "    if fname[-4:] == \".mat\":\n",
    "        fname = \"-\".join(fname.split(\"-\")[:-1])\n",
    "    data_means = mat73.loadmat(fname + \"-lfp_means.mat\")[\"LfpMeans\"]\n",
    "    data_stats = mat73.loadmat(fname + \"-lfp_stats.mat\")[\"LfpStats\"]\n",
    "\n",
    "    lfp_means_time = data_means[\"lfptime\"][-1]\n",
    "    lfp_sampling_rate = data_means[\"vdt\"][-1]\n",
    "    data_means = pd.DataFrame(\n",
    "        dict(\n",
    "            stimulus_marker=[int(x) for x in data_means[\"marker\"][:-1]],\n",
    "            number_bouts=[int(x) for x in data_means[\"bouts\"][:-1]],\n",
    "            lfp_trace=data_means[\"lfpNorm\"][:-1],\n",
    "            mean_lfp_trace=data_means[\"lfpMean\"][:-1],\n",
    "            base_lfp_trace=data_means[\"b1lfpNorm\"][:-1],\n",
    "            base_mean_lfp_trace=data_means[\"b1lfpMean\"][:-1],\n",
    "            stimulus_amplitude_modulation=data_means[\"ampmod\"][:-1],\n",
    "            stimulus_waveform_modulation=data_means[\"wavmod\"][:-1],\n",
    "            lfp_sampling_rate=[lfp_sampling_rate] * len(data_means[\"marker\"][:-1]),\n",
    "            lfp_times = [lfp_means_time] * len(data_means[\"marker\"][:-1]),\n",
    "        )\n",
    "    )\n",
    "    data_stats = pd.DataFrame(\n",
    "        dict(\n",
    "            stimulus_marker=[int(x) for x in data_stats[\"marker\"][:-1]],\n",
    "            number_bouts=[int(x) for x in data_stats[\"bouts\"][:-1]],\n",
    "            lfp_response=data_stats[\"n1\"][:-1],\n",
    "            base_lfp_response=data_stats[\"b1n1\"][:-1],\n",
    "            mean_response_modulation=data_stats[\"aveNn1m\"][:-1],\n",
    "        )\n",
    "    )\n",
    "    return pd.merge(data_means, data_stats, on=[\"stimulus_marker\", \"number_bouts\"])"
   ]
  },
  {
   "cell_type": "code",
   "execution_count": 65,
   "metadata": {},
   "outputs": [
    {
     "name": "stdout",
     "output_type": "stream",
     "text": [
      "raw/fish_03-20190711-separate\n",
      "(4201,)\n",
      "raw/fish_03-20190711-separate/20190711-001-dlz-lfp_means.mat\n"
     ]
    },
    {
     "name": "stderr",
     "output_type": "stream",
     "text": [
      "ERROR:root:ERROR: MATLAB type not supported: LinearModel, (uint32)\n"
     ]
    },
    {
     "name": "stdout",
     "output_type": "stream",
     "text": [
      "raw/fish_03-20190711-separate/20190711-004-mz-lfp_means.mat\n"
     ]
    },
    {
     "name": "stderr",
     "output_type": "stream",
     "text": [
      "ERROR:root:ERROR: MATLAB type not supported: LinearModel, (uint32)\n"
     ]
    },
    {
     "name": "stdout",
     "output_type": "stream",
     "text": [
      "\n",
      "raw/fish_12-20200826-paired\n",
      "(3564,)\n",
      "raw/fish_12-20200826-paired/20200826-004-mz-lfp_means.mat\n"
     ]
    },
    {
     "name": "stderr",
     "output_type": "stream",
     "text": [
      "ERROR:root:ERROR: MATLAB type not supported: LinearModel, (uint32)\n"
     ]
    },
    {
     "name": "stdout",
     "output_type": "stream",
     "text": [
      "raw/fish_12-20200826-paired/20200826-004-dlz-lfp_means.mat\n"
     ]
    },
    {
     "name": "stderr",
     "output_type": "stream",
     "text": [
      "ERROR:root:ERROR: MATLAB type not supported: LinearModel, (uint32)\n"
     ]
    },
    {
     "name": "stdout",
     "output_type": "stream",
     "text": [
      "raw/fish_12-20200826-paired/20200826-002-mz-lfp_means.mat\n"
     ]
    },
    {
     "name": "stderr",
     "output_type": "stream",
     "text": [
      "ERROR:root:ERROR: MATLAB type not supported: LinearModel, (uint32)\n"
     ]
    },
    {
     "name": "stdout",
     "output_type": "stream",
     "text": [
      "raw/fish_12-20200826-paired/20200826-002-dlz-lfp_means.mat\n"
     ]
    },
    {
     "name": "stderr",
     "output_type": "stream",
     "text": [
      "ERROR:root:ERROR: MATLAB type not supported: LinearModel, (uint32)\n"
     ]
    },
    {
     "name": "stdout",
     "output_type": "stream",
     "text": [
      "\n",
      "raw/fish_08-20200714-mz\n",
      "(3564,)\n",
      "raw/fish_08-20200714-mz/20200714-009-mz-lfp_means.mat\n"
     ]
    },
    {
     "name": "stderr",
     "output_type": "stream",
     "text": [
      "ERROR:root:ERROR: MATLAB type not supported: LinearModel, (uint32)\n"
     ]
    },
    {
     "name": "stdout",
     "output_type": "stream",
     "text": [
      "\n",
      "raw/fish_02-20190617-dlz\n",
      "(4201,)\n",
      "raw/fish_02-20190617-dlz/20190617-002-dlz-lfp_means.mat\n"
     ]
    },
    {
     "name": "stderr",
     "output_type": "stream",
     "text": [
      "ERROR:root:ERROR: MATLAB type not supported: LinearModel, (uint32)\n"
     ]
    },
    {
     "name": "stdout",
     "output_type": "stream",
     "text": [
      "\n",
      "raw/MISSING-FILE\n",
      "Folder raw/MISSING-FILE does not contain a waveform file or contains more than one waveform file.\n",
      "\n",
      "raw/fish_06-20200623-separate\n",
      "(3564,)\n",
      "raw/fish_06-20200623-separate/20200623-005-mz-lfp_means.mat\n"
     ]
    },
    {
     "name": "stderr",
     "output_type": "stream",
     "text": [
      "ERROR:root:ERROR: MATLAB type not supported: LinearModel, (uint32)\n"
     ]
    },
    {
     "name": "stdout",
     "output_type": "stream",
     "text": [
      "raw/fish_06-20200623-separate/20200623-008-dlz-lfp_means.mat\n"
     ]
    },
    {
     "name": "stderr",
     "output_type": "stream",
     "text": [
      "ERROR:root:ERROR: MATLAB type not supported: LinearModel, (uint32)\n"
     ]
    },
    {
     "name": "stdout",
     "output_type": "stream",
     "text": [
      "raw/fish_06-20200623-separate/20200623-004-mz-lfp_means.mat\n"
     ]
    },
    {
     "name": "stderr",
     "output_type": "stream",
     "text": [
      "ERROR:root:ERROR: MATLAB type not supported: LinearModel, (uint32)\n"
     ]
    },
    {
     "name": "stdout",
     "output_type": "stream",
     "text": [
      "raw/fish_06-20200623-separate/20200623-003-mz-lfp_means.mat\n"
     ]
    },
    {
     "name": "stderr",
     "output_type": "stream",
     "text": [
      "ERROR:root:ERROR: MATLAB type not supported: LinearModel, (uint32)\n"
     ]
    },
    {
     "name": "stdout",
     "output_type": "stream",
     "text": [
      "\n",
      "raw/fish_01-20190605-separate\n",
      "(4201,)\n",
      "raw/fish_01-20190605-separate/20190605-009-dlz-lfp_means.mat\n"
     ]
    },
    {
     "name": "stderr",
     "output_type": "stream",
     "text": [
      "ERROR:root:ERROR: MATLAB type not supported: LinearModel, (uint32)\n"
     ]
    },
    {
     "name": "stdout",
     "output_type": "stream",
     "text": [
      "raw/fish_01-20190605-separate/20190605-007-mz-lfp_means.mat\n"
     ]
    },
    {
     "name": "stderr",
     "output_type": "stream",
     "text": [
      "ERROR:root:ERROR: MATLAB type not supported: LinearModel, (uint32)\n"
     ]
    },
    {
     "name": "stdout",
     "output_type": "stream",
     "text": [
      "\n",
      "raw/fish_10-20200722-separate\n",
      "(3564,)\n",
      "raw/fish_10-20200722-separate/20200722-004-mz-lfp_means.mat\n"
     ]
    },
    {
     "name": "stderr",
     "output_type": "stream",
     "text": [
      "ERROR:root:ERROR: MATLAB type not supported: LinearModel, (uint32)\n"
     ]
    },
    {
     "name": "stdout",
     "output_type": "stream",
     "text": [
      "raw/fish_10-20200722-separate/20200722-001-dlz-lfp_means.mat\n"
     ]
    },
    {
     "name": "stderr",
     "output_type": "stream",
     "text": [
      "ERROR:root:ERROR: MATLAB type not supported: LinearModel, (uint32)\n"
     ]
    },
    {
     "name": "stdout",
     "output_type": "stream",
     "text": [
      "\n",
      "raw/fish_07-20200626-dlz\n",
      "(3564,)\n",
      "raw/fish_07-20200626-dlz/20200626-001-dlz-lfp_means.mat\n"
     ]
    },
    {
     "name": "stderr",
     "output_type": "stream",
     "text": [
      "ERROR:root:ERROR: MATLAB type not supported: LinearModel, (uint32)\n"
     ]
    },
    {
     "name": "stdout",
     "output_type": "stream",
     "text": [
      "\n",
      "raw/fish_04-20190731_dlz\n",
      "(3564,)\n",
      "raw/fish_04-20190731_dlz/20190731-003-dlz-lfp_means.mat\n"
     ]
    },
    {
     "name": "stderr",
     "output_type": "stream",
     "text": [
      "ERROR:root:ERROR: MATLAB type not supported: LinearModel, (uint32)\n"
     ]
    },
    {
     "name": "stdout",
     "output_type": "stream",
     "text": [
      "\n",
      "raw/fish_09-20200715-separate\n",
      "(3564,)\n",
      "raw/fish_09-20200715-separate/20200715-004-mz-lfp_means.mat\n"
     ]
    },
    {
     "name": "stderr",
     "output_type": "stream",
     "text": [
      "ERROR:root:ERROR: MATLAB type not supported: LinearModel, (uint32)\n"
     ]
    },
    {
     "name": "stdout",
     "output_type": "stream",
     "text": [
      "raw/fish_09-20200715-separate/20200715-010-dlz-lfp_means.mat\n"
     ]
    },
    {
     "name": "stderr",
     "output_type": "stream",
     "text": [
      "ERROR:root:ERROR: MATLAB type not supported: LinearModel, (uint32)\n"
     ]
    },
    {
     "name": "stdout",
     "output_type": "stream",
     "text": [
      "\n",
      "raw/fish_11-20200806-paired\n",
      "(3564,)\n",
      "raw/fish_11-20200806-paired/20200806-001-mz-lfp_means.mat\n"
     ]
    },
    {
     "name": "stderr",
     "output_type": "stream",
     "text": [
      "ERROR:root:ERROR: MATLAB type not supported: LinearModel, (uint32)\n"
     ]
    },
    {
     "name": "stdout",
     "output_type": "stream",
     "text": [
      "raw/fish_11-20200806-paired/20200806-001-dlz-lfp_means.mat\n"
     ]
    },
    {
     "name": "stderr",
     "output_type": "stream",
     "text": [
      "ERROR:root:ERROR: MATLAB type not supported: LinearModel, (uint32)\n"
     ]
    },
    {
     "name": "stdout",
     "output_type": "stream",
     "text": [
      "\n",
      "raw/fish_05-20190910-mz\n",
      "(3564,)\n",
      "raw/fish_05-20190910-mz/20190910-010-mz-lfp_means.mat\n"
     ]
    },
    {
     "name": "stderr",
     "output_type": "stream",
     "text": [
      "ERROR:root:ERROR: MATLAB type not supported: LinearModel, (uint32)\n"
     ]
    },
    {
     "name": "stdout",
     "output_type": "stream",
     "text": [
      "\n"
     ]
    }
   ],
   "source": [
    "data = pd.DataFrame()\n",
    "for folder in glob('raw/*', recursive=True):\n",
    "    if os.path.isdir(folder):\n",
    "        print(folder)\n",
    "        fnames = glob(f\"{folder}/*lfp_means.mat\")\n",
    "        waveforms_fname = glob(f\"{folder}/waveform*.mat\")\n",
    "        if len(waveforms_fname) == 1:\n",
    "            waveforms_fname = waveforms_fname[0]\n",
    "            waveforms = load_waveform(waveforms_fname)\n",
    "            print(waveforms[\"waveform\"][0].shape)\n",
    "            new_lfp_data = pd.DataFrame()\n",
    "            for fname in fnames:\n",
    "                print(fname)\n",
    "                experiment_date, session_id, zone, _ = fname.split('/')[-1].split('-')\n",
    "                lfp_data = load_lfp_data(fname)\n",
    "                new_lfp_data = pd.concat([new_lfp_data, lfp_data], axis=0, ignore_index=True)\n",
    "            new_lfp_data[\"experiment_date\"] = experiment_date\n",
    "            new_lfp_data[\"session_id\"] = session_id\n",
    "            new_lfp_data[\"zone\"] = zone\n",
    "            new_lfp_data[\"paired_experiment\"] = \"paired\" in folder\n",
    "            new_lfp_data = pd.merge(new_lfp_data, waveforms, on=\"stimulus_marker\")\n",
    "            print()\n",
    "        else:\n",
    "            print(f\"Folder {folder} does not contain a waveform file or contains more than one waveform file.\\n\")\n",
    "            continue\n",
    "        data = pd.concat([data, new_lfp_data], axis=0, ignore_index=True)"
   ]
  },
  {
   "cell_type": "code",
   "execution_count": 66,
   "metadata": {},
   "outputs": [
    {
     "data": {
      "text/html": [
       "<div>\n",
       "<style scoped>\n",
       "    .dataframe tbody tr th:only-of-type {\n",
       "        vertical-align: middle;\n",
       "    }\n",
       "\n",
       "    .dataframe tbody tr th {\n",
       "        vertical-align: top;\n",
       "    }\n",
       "\n",
       "    .dataframe thead th {\n",
       "        text-align: right;\n",
       "    }\n",
       "</style>\n",
       "<table border=\"1\" class=\"dataframe\">\n",
       "  <thead>\n",
       "    <tr style=\"text-align: right;\">\n",
       "      <th></th>\n",
       "      <th>stimulus_marker</th>\n",
       "      <th>number_bouts</th>\n",
       "      <th>lfp_trace</th>\n",
       "      <th>mean_lfp_trace</th>\n",
       "      <th>base_lfp_trace</th>\n",
       "      <th>base_mean_lfp_trace</th>\n",
       "      <th>stimulus_amplitude_modulation</th>\n",
       "      <th>stimulus_waveform_modulation</th>\n",
       "      <th>lfp_sampling_rate</th>\n",
       "      <th>lfp_times</th>\n",
       "      <th>...</th>\n",
       "      <th>fname</th>\n",
       "      <th>sampling_rate</th>\n",
       "      <th>resistance</th>\n",
       "      <th>capacitance</th>\n",
       "      <th>amplitude_modulation</th>\n",
       "      <th>waveform_modulation</th>\n",
       "      <th>value_max</th>\n",
       "      <th>value_min</th>\n",
       "      <th>waveform</th>\n",
       "      <th>base_waveform</th>\n",
       "    </tr>\n",
       "  </thead>\n",
       "  <tbody>\n",
       "    <tr>\n",
       "      <th>0</th>\n",
       "      <td>2</td>\n",
       "      <td>1</td>\n",
       "      <td>[[[0.0075687635792413555, 0.001465247922390444...</td>\n",
       "      <td>[0.002112391602832647, -0.000373565219686537, ...</td>\n",
       "      <td>[[[-0.0064875116399061294, -0.0003839960149061...</td>\n",
       "      <td>[-0.002800298964392496, 0.001037548106306116, ...</td>\n",
       "      <td>0.23003291748409427</td>\n",
       "      <td>2.832968816779413e-05</td>\n",
       "      <td>3.3299999999999996e-05</td>\n",
       "      <td>[-0.0050282999999999994, -0.004994999999999999...</td>\n",
       "      <td>...</td>\n",
       "      <td>\"ec_2_190523.RAF\"</td>\n",
       "      <td>2500000</td>\n",
       "      <td>220000</td>\n",
       "      <td>7.500000e-12</td>\n",
       "      <td>0.230033</td>\n",
       "      <td>0.000028</td>\n",
       "      <td>0.433963</td>\n",
       "      <td>-0.795096</td>\n",
       "      <td>[0.0, 0.0, 0.0, 0.0, 0.0, 0.0, 0.0, 0.0, 0.0, ...</td>\n",
       "      <td>[0.0, 0.0, 0.0, 0.0, 0.0, 0.0, 0.0, 0.0, 0.0, ...</td>\n",
       "    </tr>\n",
       "    <tr>\n",
       "      <th>1</th>\n",
       "      <td>2</td>\n",
       "      <td>1</td>\n",
       "      <td>[[[0.008715881544035242, 0.010394360380762135,...</td>\n",
       "      <td>[-0.002484738352135792, -0.0010616228190160827...</td>\n",
       "      <td>[[[0.004629263884159851, 0.009417591612474768,...</td>\n",
       "      <td>[-0.0009374321089675314, 0.0013796302872096378...</td>\n",
       "      <td>0.23003291748409427</td>\n",
       "      <td>2.832968816779413e-05</td>\n",
       "      <td>3.3299999999999996e-05</td>\n",
       "      <td>[-0.0050282999999999994, -0.004994999999999999...</td>\n",
       "      <td>...</td>\n",
       "      <td>\"ec_2_190523.RAF\"</td>\n",
       "      <td>2500000</td>\n",
       "      <td>220000</td>\n",
       "      <td>7.500000e-12</td>\n",
       "      <td>0.230033</td>\n",
       "      <td>0.000028</td>\n",
       "      <td>0.433963</td>\n",
       "      <td>-0.795096</td>\n",
       "      <td>[0.0, 0.0, 0.0, 0.0, 0.0, 0.0, 0.0, 0.0, 0.0, ...</td>\n",
       "      <td>[0.0, 0.0, 0.0, 0.0, 0.0, 0.0, 0.0, 0.0, 0.0, ...</td>\n",
       "    </tr>\n",
       "    <tr>\n",
       "      <th>2</th>\n",
       "      <td>3</td>\n",
       "      <td>1</td>\n",
       "      <td>[[[-0.011763136026413462, -0.00853689793870132...</td>\n",
       "      <td>[-0.003831753522231177, -0.004108510924651803,...</td>\n",
       "      <td>[[[-0.004977901586282474, -0.00728493195901927...</td>\n",
       "      <td>[-0.000850468239671491, -0.0011769891838249308...</td>\n",
       "      <td>0.21003969607302797</td>\n",
       "      <td>-8.781328860030246e-05</td>\n",
       "      <td>3.3299999999999996e-05</td>\n",
       "      <td>[-0.0050282999999999994, -0.004994999999999999...</td>\n",
       "      <td>...</td>\n",
       "      <td>\"ec_3_190523.RAF\"</td>\n",
       "      <td>2500000</td>\n",
       "      <td>280000</td>\n",
       "      <td>1.100000e-11</td>\n",
       "      <td>0.210040</td>\n",
       "      <td>-0.000088</td>\n",
       "      <td>0.426877</td>\n",
       "      <td>-0.782205</td>\n",
       "      <td>[0.0, 0.0, 0.0, 0.0, 0.0, 0.0, 0.0, 0.0, 0.0, ...</td>\n",
       "      <td>[0.0, 0.0, 0.0, 0.0, 0.0, 0.0, 0.0, 0.0, 0.0, ...</td>\n",
       "    </tr>\n",
       "    <tr>\n",
       "      <th>3</th>\n",
       "      <td>3</td>\n",
       "      <td>1</td>\n",
       "      <td>[[[-0.0030012320202070786, 5.052579229292142e-...</td>\n",
       "      <td>[-0.0016666003784932592, 9.103653512374393e-05...</td>\n",
       "      <td>[[[-0.008366687628595354, -0.00881647540983701...</td>\n",
       "      <td>[-0.0009961245353088677, -0.003053874928829698...</td>\n",
       "      <td>0.21003969607302797</td>\n",
       "      <td>-8.781328860030246e-05</td>\n",
       "      <td>3.3299999999999996e-05</td>\n",
       "      <td>[-0.0050282999999999994, -0.004994999999999999...</td>\n",
       "      <td>...</td>\n",
       "      <td>\"ec_3_190523.RAF\"</td>\n",
       "      <td>2500000</td>\n",
       "      <td>280000</td>\n",
       "      <td>1.100000e-11</td>\n",
       "      <td>0.210040</td>\n",
       "      <td>-0.000088</td>\n",
       "      <td>0.426877</td>\n",
       "      <td>-0.782205</td>\n",
       "      <td>[0.0, 0.0, 0.0, 0.0, 0.0, 0.0, 0.0, 0.0, 0.0, ...</td>\n",
       "      <td>[0.0, 0.0, 0.0, 0.0, 0.0, 0.0, 0.0, 0.0, 0.0, ...</td>\n",
       "    </tr>\n",
       "    <tr>\n",
       "      <th>4</th>\n",
       "      <td>4</td>\n",
       "      <td>1</td>\n",
       "      <td>[[[0.0003043063693516923, -0.00257789581194178...</td>\n",
       "      <td>[-0.0033268564083073727, -0.003203784209533403...</td>\n",
       "      <td>[[[-0.00035657508942824045, -0.002206989108808...</td>\n",
       "      <td>[0.0005160162949952168, 0.0005936553222554361,...</td>\n",
       "      <td>0.2300875781350591</td>\n",
       "      <td>-0.00923079458871634</td>\n",
       "      <td>3.3299999999999996e-05</td>\n",
       "      <td>[-0.0050282999999999994, -0.004994999999999999...</td>\n",
       "      <td>...</td>\n",
       "      <td>\"ec_4_190523.RAF\"</td>\n",
       "      <td>2500000</td>\n",
       "      <td>280000</td>\n",
       "      <td>4.700000e-11</td>\n",
       "      <td>0.230088</td>\n",
       "      <td>-0.009231</td>\n",
       "      <td>0.431374</td>\n",
       "      <td>-0.797740</td>\n",
       "      <td>[0.0, 0.0, 0.0, 0.0, 0.0, 0.0, 0.0, 0.0, 0.0, ...</td>\n",
       "      <td>[0.0, 0.0, 0.0, 0.0, 0.0, 0.0, 0.0, 0.0, 0.0, ...</td>\n",
       "    </tr>\n",
       "  </tbody>\n",
       "</table>\n",
       "<p>5 rows × 27 columns</p>\n",
       "</div>"
      ],
      "text/plain": [
       "   stimulus_marker  number_bouts  \\\n",
       "0                2             1   \n",
       "1                2             1   \n",
       "2                3             1   \n",
       "3                3             1   \n",
       "4                4             1   \n",
       "\n",
       "                                           lfp_trace  \\\n",
       "0  [[[0.0075687635792413555, 0.001465247922390444...   \n",
       "1  [[[0.008715881544035242, 0.010394360380762135,...   \n",
       "2  [[[-0.011763136026413462, -0.00853689793870132...   \n",
       "3  [[[-0.0030012320202070786, 5.052579229292142e-...   \n",
       "4  [[[0.0003043063693516923, -0.00257789581194178...   \n",
       "\n",
       "                                      mean_lfp_trace  \\\n",
       "0  [0.002112391602832647, -0.000373565219686537, ...   \n",
       "1  [-0.002484738352135792, -0.0010616228190160827...   \n",
       "2  [-0.003831753522231177, -0.004108510924651803,...   \n",
       "3  [-0.0016666003784932592, 9.103653512374393e-05...   \n",
       "4  [-0.0033268564083073727, -0.003203784209533403...   \n",
       "\n",
       "                                      base_lfp_trace  \\\n",
       "0  [[[-0.0064875116399061294, -0.0003839960149061...   \n",
       "1  [[[0.004629263884159851, 0.009417591612474768,...   \n",
       "2  [[[-0.004977901586282474, -0.00728493195901927...   \n",
       "3  [[[-0.008366687628595354, -0.00881647540983701...   \n",
       "4  [[[-0.00035657508942824045, -0.002206989108808...   \n",
       "\n",
       "                                 base_mean_lfp_trace  \\\n",
       "0  [-0.002800298964392496, 0.001037548106306116, ...   \n",
       "1  [-0.0009374321089675314, 0.0013796302872096378...   \n",
       "2  [-0.000850468239671491, -0.0011769891838249308...   \n",
       "3  [-0.0009961245353088677, -0.003053874928829698...   \n",
       "4  [0.0005160162949952168, 0.0005936553222554361,...   \n",
       "\n",
       "  stimulus_amplitude_modulation stimulus_waveform_modulation  \\\n",
       "0           0.23003291748409427        2.832968816779413e-05   \n",
       "1           0.23003291748409427        2.832968816779413e-05   \n",
       "2           0.21003969607302797       -8.781328860030246e-05   \n",
       "3           0.21003969607302797       -8.781328860030246e-05   \n",
       "4            0.2300875781350591         -0.00923079458871634   \n",
       "\n",
       "        lfp_sampling_rate                                          lfp_times  \\\n",
       "0  3.3299999999999996e-05  [-0.0050282999999999994, -0.004994999999999999...   \n",
       "1  3.3299999999999996e-05  [-0.0050282999999999994, -0.004994999999999999...   \n",
       "2  3.3299999999999996e-05  [-0.0050282999999999994, -0.004994999999999999...   \n",
       "3  3.3299999999999996e-05  [-0.0050282999999999994, -0.004994999999999999...   \n",
       "4  3.3299999999999996e-05  [-0.0050282999999999994, -0.004994999999999999...   \n",
       "\n",
       "   ...              fname sampling_rate resistance   capacitance  \\\n",
       "0  ...  \"ec_2_190523.RAF\"       2500000     220000  7.500000e-12   \n",
       "1  ...  \"ec_2_190523.RAF\"       2500000     220000  7.500000e-12   \n",
       "2  ...  \"ec_3_190523.RAF\"       2500000     280000  1.100000e-11   \n",
       "3  ...  \"ec_3_190523.RAF\"       2500000     280000  1.100000e-11   \n",
       "4  ...  \"ec_4_190523.RAF\"       2500000     280000  4.700000e-11   \n",
       "\n",
       "  amplitude_modulation waveform_modulation  value_max value_min  \\\n",
       "0             0.230033            0.000028   0.433963 -0.795096   \n",
       "1             0.230033            0.000028   0.433963 -0.795096   \n",
       "2             0.210040           -0.000088   0.426877 -0.782205   \n",
       "3             0.210040           -0.000088   0.426877 -0.782205   \n",
       "4             0.230088           -0.009231   0.431374 -0.797740   \n",
       "\n",
       "                                            waveform  \\\n",
       "0  [0.0, 0.0, 0.0, 0.0, 0.0, 0.0, 0.0, 0.0, 0.0, ...   \n",
       "1  [0.0, 0.0, 0.0, 0.0, 0.0, 0.0, 0.0, 0.0, 0.0, ...   \n",
       "2  [0.0, 0.0, 0.0, 0.0, 0.0, 0.0, 0.0, 0.0, 0.0, ...   \n",
       "3  [0.0, 0.0, 0.0, 0.0, 0.0, 0.0, 0.0, 0.0, 0.0, ...   \n",
       "4  [0.0, 0.0, 0.0, 0.0, 0.0, 0.0, 0.0, 0.0, 0.0, ...   \n",
       "\n",
       "                                       base_waveform  \n",
       "0  [0.0, 0.0, 0.0, 0.0, 0.0, 0.0, 0.0, 0.0, 0.0, ...  \n",
       "1  [0.0, 0.0, 0.0, 0.0, 0.0, 0.0, 0.0, 0.0, 0.0, ...  \n",
       "2  [0.0, 0.0, 0.0, 0.0, 0.0, 0.0, 0.0, 0.0, 0.0, ...  \n",
       "3  [0.0, 0.0, 0.0, 0.0, 0.0, 0.0, 0.0, 0.0, 0.0, ...  \n",
       "4  [0.0, 0.0, 0.0, 0.0, 0.0, 0.0, 0.0, 0.0, 0.0, ...  \n",
       "\n",
       "[5 rows x 27 columns]"
      ]
     },
     "execution_count": 66,
     "metadata": {},
     "output_type": "execute_result"
    }
   ],
   "source": [
    "data.head()"
   ]
  },
  {
   "cell_type": "code",
   "execution_count": null,
   "metadata": {},
   "outputs": [],
   "source": []
  }
 ],
 "metadata": {
  "kernelspec": {
   "display_name": "efish",
   "language": "python",
   "name": "python3"
  },
  "language_info": {
   "codemirror_mode": {
    "name": "ipython",
    "version": 3
   },
   "file_extension": ".py",
   "mimetype": "text/x-python",
   "name": "python",
   "nbconvert_exporter": "python",
   "pygments_lexer": "ipython3",
   "version": "3.11.7"
  }
 },
 "nbformat": 4,
 "nbformat_minor": 2
}
