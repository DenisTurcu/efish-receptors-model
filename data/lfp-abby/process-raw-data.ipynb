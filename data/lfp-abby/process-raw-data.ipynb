{
 "cells": [
  {
   "cell_type": "code",
   "execution_count": 1,
   "metadata": {},
   "outputs": [],
   "source": [
    "import pandas as pd\n",
    "from glob import glob\n",
    "import os\n",
    "\n",
    "from helpers_process_raw_data import load_waveform, load_lfp_data, expand_data_to_single_trials"
   ]
  },
  {
   "cell_type": "code",
   "execution_count": 3,
   "metadata": {},
   "outputs": [
    {
     "name": "stdout",
     "output_type": "stream",
     "text": [
      "raw/fish_03-20190711-separate\n",
      "raw/fish_12-20200826-paired\n",
      "raw/fish_08-20200714-mz\n",
      "raw/fish_02-20190617-dlz\n",
      "raw/fish_06-20200623-separate\n",
      "raw/fish_13-20200902-paired\n",
      "raw/fish_01-20190605-separate\n",
      "raw/fish_10-20200722-separate\n",
      "raw/fish_07-20200626-dlz\n",
      "raw/fish_04-20190731_dlz\n",
      "raw/fish_09-20200715-separate\n",
      "raw/fish_11-20200806-paired\n",
      "raw/fish_05-20190910-mz\n"
     ]
    }
   ],
   "source": [
    "data = pd.DataFrame()\n",
    "for folder in glob(\"raw/*\", recursive=True):\n",
    "    if os.path.isdir(folder):\n",
    "        print(folder)\n",
    "        fnames = glob(f\"{folder}/*lfp_means.mat\")\n",
    "        waveforms_fname = glob(f\"{folder}/waveform*.mat\")\n",
    "        if len(waveforms_fname) == 1:\n",
    "            fish_id = folder.split(\"/\")[-1].split(\"-\")[0]\n",
    "            waveforms_fname = waveforms_fname[0]\n",
    "            waveforms = load_waveform(waveforms_fname)\n",
    "            new_lfp_data = pd.DataFrame()\n",
    "            for fname in fnames:\n",
    "                lfp_data = load_lfp_data(fname)\n",
    "                new_lfp_data = pd.concat([new_lfp_data, lfp_data], axis=0, ignore_index=True)\n",
    "            new_lfp_data[\"fish_id\"] = fish_id\n",
    "            new_lfp_data[\"paired_experiment\"] = \"paired\" in folder\n",
    "            new_lfp_data = pd.merge(new_lfp_data, waveforms, on=\"stimulus_marker\")\n",
    "        else:\n",
    "            print(f\"Folder {folder} does not contain a waveform file or contains more than one waveform file.\")\n",
    "            continue\n",
    "        data = pd.concat([data, new_lfp_data], axis=0, ignore_index=True)\n",
    "\n",
    "data_single_trials = data.apply(expand_data_to_single_trials, axis=1)  # type: ignore\n",
    "data_single_trials = pd.concat(data_single_trials.tolist(), axis=0, ignore_index=True)\n",
    "data.to_pickle(\"processed/trial_averages.pkl\")\n",
    "data_single_trials.to_pickle(\"processed/single_trials.pkl\")"
   ]
  },
  {
   "cell_type": "code",
   "execution_count": null,
   "metadata": {},
   "outputs": [],
   "source": []
  }
 ],
 "metadata": {
  "kernelspec": {
   "display_name": "efish",
   "language": "python",
   "name": "python3"
  },
  "language_info": {
   "codemirror_mode": {
    "name": "ipython",
    "version": 3
   },
   "file_extension": ".py",
   "mimetype": "text/x-python",
   "name": "python",
   "nbconvert_exporter": "python",
   "pygments_lexer": "ipython3",
   "version": "3.11.7"
  }
 },
 "nbformat": 4,
 "nbformat_minor": 2
}
