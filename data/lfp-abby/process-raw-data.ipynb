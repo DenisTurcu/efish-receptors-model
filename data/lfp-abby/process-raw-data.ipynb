{
 "cells": [
  {
   "cell_type": "code",
   "execution_count": null,
   "metadata": {},
   "outputs": [],
   "source": [
    "import numpy as np\n",
    "import pandas as pd\n",
    "from glob import glob\n",
    "import os\n",
    "import scipy.io as sio\n",
    "import mat73\n",
    "import matplotlib.pyplot as plt"
   ]
  },
  {
   "cell_type": "code",
   "execution_count": null,
   "metadata": {},
   "outputs": [],
   "source": [
    "def load_waveform(fname):\n",
    "    data = sio.loadmat(fname)\n",
    "    k = list(data.keys())[-1]\n",
    "    data = data[k]\n",
    "    return pd.DataFrame(dict(\n",
    "        fname=[x[0] for x in data['fname'][0]],\n",
    "        marker=[x[0][0] for x in data['marker'][0]],\n",
    "        sampling_rate=[x[0][0] for x in data['samprate'][0]],\n",
    "        resistance=[x[0][0] for x in data['RO'][0]],\n",
    "        capacitance=[x[0][0] for x in data['CO'][0]],\n",
    "        amplitude_modulation=[x[0][0] for x in data['amp_mod'][0]],\n",
    "        waveform_modulation=[x[0][0] for x in data['wav_mod'][0]],\n",
    "        value_max=[x[0][0] for x in data['maxv'][0]],\n",
    "        value_min=[x[0][0] for x in data['minv'][0]],\n",
    "        waveform=[x[0] for x in data['waveform'][0]],\n",
    "    ))\n",
    "    \n",
    "\n",
    "def load_lfp_data(fname):\n",
    "    if fname[-4:] == \".mat\":\n",
    "        fname = \"-\".join(fname.split(\"-\")[:-1])\n",
    "    data_means = mat73.loadmat(fname + \"-lfp_means.mat\")[\"LfpMeans\"]\n",
    "    data_stats = mat73.loadmat(fname + \"-lfp_stats.mat\")[\"LfpStats\"]\n",
    "\n",
    "    lfp_means_time = data_means[\"lfptime\"][-1]\n",
    "    lfp_sampling_rate = data_means[\"vdt\"][-1]\n",
    "    data_means = pd.DataFrame(\n",
    "        dict(\n",
    "            stimulus_marker=[int(x) for x in data_means[\"marker\"][:-1]],\n",
    "            number_bouts=[int(x) for x in data_means[\"bouts\"][:-1]],\n",
    "            lfp_trace=data_means[\"lfpNorm\"][:-1],\n",
    "            mean_lfp_trace=data_means[\"lfpMean\"][:-1],\n",
    "            base_lfp_trace=data_means[\"b1lfpNorm\"][:-1],\n",
    "            base_mean_lfp_trace=data_means[\"b1lfpMean\"][:-1],\n",
    "            stimulus_amplitude_modulation=data_means[\"ampmod\"][:-1],\n",
    "            stimulus_waveform_modulation=data_means[\"wavmod\"][:-1],\n",
    "            lfp_sampling_rate=[lfp_sampling_rate] * len(data_means[\"marker\"][:-1]),\n",
    "            lfp_times = [lfp_means_time] * len(data_means[\"marker\"][:-1]),\n",
    "        )\n",
    "    )\n",
    "    data_stats = pd.DataFrame(\n",
    "        dict(\n",
    "            stimulus_marker=[int(x) for x in data_stats[\"marker\"][:-1]],\n",
    "            number_bouts=[int(x) for x in data_stats[\"bouts\"][:-1]],\n",
    "            lfp_response=data_stats[\"n1\"][:-1],\n",
    "            base_lfp_response=data_stats[\"b1n1\"][:-1],\n",
    "            mean_response_modulation=data_stats[\"aveNn1m\"][:-1],\n",
    "        )\n",
    "    )\n",
    "    return pd.merge(data_means, data_stats, on=[\"stimulus_marker\", \"number_bouts\"])"
   ]
  },
  {
   "cell_type": "code",
   "execution_count": null,
   "metadata": {},
   "outputs": [],
   "source": [
    "for folder in glob('raw/*', recursive=True):\n",
    "    if os.path.isdir(folder):\n",
    "        print(folder)\n",
    "        fnames = glob(f\"{folder}/*lfp_means.mat\")\n",
    "        waveforms_fname = glob(f\"{folder}/waveform*.mat\")\n",
    "        if len(waveforms_fname) == 1:\n",
    "            waveforms_fname = waveforms_fname[0]\n",
    "            waveforms = load_waveform(waveforms_fname)\n",
    "            fnames.remove(waveforms_fname)\n",
    "            for fname in fnames:\n",
    "                print(fname)\n",
    "                df = load_lfp_data(fname)\n",
    "                # df = pd.read_csv(fname)\n",
    "                # df = df.dropna()\n",
    "                # df = df.drop_duplicates()\n",
    "                # df.to_csv(fname, index=False)\n",
    "            print()\n",
    "        else:\n",
    "            raise ValueError(f\"More than one waveform file in {folder}\")"
   ]
  },
  {
   "cell_type": "code",
   "execution_count": null,
   "metadata": {},
   "outputs": [],
   "source": []
  },
  {
   "cell_type": "code",
   "execution_count": null,
   "metadata": {},
   "outputs": [],
   "source": []
  },
  {
   "cell_type": "code",
   "execution_count": null,
   "metadata": {},
   "outputs": [],
   "source": []
  }
 ],
 "metadata": {
  "kernelspec": {
   "display_name": "efish",
   "language": "python",
   "name": "python3"
  },
  "language_info": {
   "codemirror_mode": {
    "name": "ipython",
    "version": 3
   },
   "file_extension": ".py",
   "mimetype": "text/x-python",
   "name": "python",
   "nbconvert_exporter": "python",
   "pygments_lexer": "ipython3",
   "version": "3.11.7"
  }
 },
 "nbformat": 4,
 "nbformat_minor": 2
}
